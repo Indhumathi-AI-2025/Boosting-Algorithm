{
 "cells": [
  {
   "cell_type": "code",
   "execution_count": 2,
   "id": "91495104-cd49-43b9-b51b-cbb837178b01",
   "metadata": {},
   "outputs": [
    {
     "name": "stdout",
     "output_type": "stream",
     "text": [
      "Collecting lightgbm\n",
      "  Downloading lightgbm-4.6.0-py3-none-macosx_12_0_arm64.whl.metadata (17 kB)\n",
      "Requirement already satisfied: numpy>=1.17.0 in /opt/anaconda3/lib/python3.12/site-packages (from lightgbm) (1.26.4)\n",
      "Requirement already satisfied: scipy in /opt/anaconda3/lib/python3.12/site-packages (from lightgbm) (1.13.1)\n",
      "Downloading lightgbm-4.6.0-py3-none-macosx_12_0_arm64.whl (1.6 MB)\n",
      "\u001b[2K   \u001b[90m━━━━━━━━━━━━━━━━━━━━━━━━━━━━━━━━━━━━━━━━\u001b[0m \u001b[32m1.6/1.6 MB\u001b[0m \u001b[31m25.6 MB/s\u001b[0m eta \u001b[36m0:00:00\u001b[0m\n",
      "\u001b[?25hInstalling collected packages: lightgbm\n",
      "Successfully installed lightgbm-4.6.0\n"
     ]
    }
   ],
   "source": [
    "!pip install lightgbm"
   ]
  },
  {
   "cell_type": "code",
   "execution_count": 5,
   "id": "7a85f114-b52e-468e-87cf-93bdae11c997",
   "metadata": {},
   "outputs": [],
   "source": [
    "import pandas as pd\n",
    "import lightgbm "
   ]
  },
  {
   "cell_type": "code",
   "execution_count": 6,
   "id": "482df793-48b1-414c-a2af-5b90e9a1ea3d",
   "metadata": {},
   "outputs": [
    {
     "data": {
      "text/html": [
       "<div>\n",
       "<style scoped>\n",
       "    .dataframe tbody tr th:only-of-type {\n",
       "        vertical-align: middle;\n",
       "    }\n",
       "\n",
       "    .dataframe tbody tr th {\n",
       "        vertical-align: top;\n",
       "    }\n",
       "\n",
       "    .dataframe thead th {\n",
       "        text-align: right;\n",
       "    }\n",
       "</style>\n",
       "<table border=\"1\" class=\"dataframe\">\n",
       "  <thead>\n",
       "    <tr style=\"text-align: right;\">\n",
       "      <th></th>\n",
       "      <th>age</th>\n",
       "      <th>bmi</th>\n",
       "      <th>children</th>\n",
       "      <th>charges</th>\n",
       "      <th>sex_male</th>\n",
       "      <th>smoker_yes</th>\n",
       "    </tr>\n",
       "  </thead>\n",
       "  <tbody>\n",
       "    <tr>\n",
       "      <th>0</th>\n",
       "      <td>19</td>\n",
       "      <td>27.900</td>\n",
       "      <td>0</td>\n",
       "      <td>16884.92400</td>\n",
       "      <td>False</td>\n",
       "      <td>True</td>\n",
       "    </tr>\n",
       "    <tr>\n",
       "      <th>1</th>\n",
       "      <td>18</td>\n",
       "      <td>33.770</td>\n",
       "      <td>1</td>\n",
       "      <td>1725.55230</td>\n",
       "      <td>True</td>\n",
       "      <td>False</td>\n",
       "    </tr>\n",
       "    <tr>\n",
       "      <th>2</th>\n",
       "      <td>28</td>\n",
       "      <td>33.000</td>\n",
       "      <td>3</td>\n",
       "      <td>4449.46200</td>\n",
       "      <td>True</td>\n",
       "      <td>False</td>\n",
       "    </tr>\n",
       "    <tr>\n",
       "      <th>3</th>\n",
       "      <td>33</td>\n",
       "      <td>22.705</td>\n",
       "      <td>0</td>\n",
       "      <td>21984.47061</td>\n",
       "      <td>True</td>\n",
       "      <td>False</td>\n",
       "    </tr>\n",
       "    <tr>\n",
       "      <th>4</th>\n",
       "      <td>32</td>\n",
       "      <td>28.880</td>\n",
       "      <td>0</td>\n",
       "      <td>3866.85520</td>\n",
       "      <td>True</td>\n",
       "      <td>False</td>\n",
       "    </tr>\n",
       "    <tr>\n",
       "      <th>...</th>\n",
       "      <td>...</td>\n",
       "      <td>...</td>\n",
       "      <td>...</td>\n",
       "      <td>...</td>\n",
       "      <td>...</td>\n",
       "      <td>...</td>\n",
       "    </tr>\n",
       "    <tr>\n",
       "      <th>1333</th>\n",
       "      <td>50</td>\n",
       "      <td>30.970</td>\n",
       "      <td>3</td>\n",
       "      <td>10600.54830</td>\n",
       "      <td>True</td>\n",
       "      <td>False</td>\n",
       "    </tr>\n",
       "    <tr>\n",
       "      <th>1334</th>\n",
       "      <td>18</td>\n",
       "      <td>31.920</td>\n",
       "      <td>0</td>\n",
       "      <td>2205.98080</td>\n",
       "      <td>False</td>\n",
       "      <td>False</td>\n",
       "    </tr>\n",
       "    <tr>\n",
       "      <th>1335</th>\n",
       "      <td>18</td>\n",
       "      <td>36.850</td>\n",
       "      <td>0</td>\n",
       "      <td>1629.83350</td>\n",
       "      <td>False</td>\n",
       "      <td>False</td>\n",
       "    </tr>\n",
       "    <tr>\n",
       "      <th>1336</th>\n",
       "      <td>21</td>\n",
       "      <td>25.800</td>\n",
       "      <td>0</td>\n",
       "      <td>2007.94500</td>\n",
       "      <td>False</td>\n",
       "      <td>False</td>\n",
       "    </tr>\n",
       "    <tr>\n",
       "      <th>1337</th>\n",
       "      <td>61</td>\n",
       "      <td>29.070</td>\n",
       "      <td>0</td>\n",
       "      <td>29141.36030</td>\n",
       "      <td>False</td>\n",
       "      <td>True</td>\n",
       "    </tr>\n",
       "  </tbody>\n",
       "</table>\n",
       "<p>1338 rows × 6 columns</p>\n",
       "</div>"
      ],
      "text/plain": [
       "      age     bmi  children      charges  sex_male  smoker_yes\n",
       "0      19  27.900         0  16884.92400     False        True\n",
       "1      18  33.770         1   1725.55230      True       False\n",
       "2      28  33.000         3   4449.46200      True       False\n",
       "3      33  22.705         0  21984.47061      True       False\n",
       "4      32  28.880         0   3866.85520      True       False\n",
       "...   ...     ...       ...          ...       ...         ...\n",
       "1333   50  30.970         3  10600.54830      True       False\n",
       "1334   18  31.920         0   2205.98080     False       False\n",
       "1335   18  36.850         0   1629.83350     False       False\n",
       "1336   21  25.800         0   2007.94500     False       False\n",
       "1337   61  29.070         0  29141.36030     False        True\n",
       "\n",
       "[1338 rows x 6 columns]"
      ]
     },
     "execution_count": 6,
     "metadata": {},
     "output_type": "execute_result"
    }
   ],
   "source": [
    "dataset = pd.read_csv(\"insurance_pre.csv\")\n",
    "dataset = pd.get_dummies(dataset, drop_first = True)\n",
    "dataset"
   ]
  },
  {
   "cell_type": "code",
   "execution_count": 7,
   "id": "f9c40baa-683e-407c-8df6-3d7aa81e744a",
   "metadata": {},
   "outputs": [
    {
     "data": {
      "text/plain": [
       "Index(['age', 'bmi', 'children', 'charges', 'sex_male', 'smoker_yes'], dtype='object')"
      ]
     },
     "execution_count": 7,
     "metadata": {},
     "output_type": "execute_result"
    }
   ],
   "source": [
    "dataset.columns"
   ]
  },
  {
   "cell_type": "code",
   "execution_count": 8,
   "id": "06178391-5fd2-4177-b022-bba81165d599",
   "metadata": {},
   "outputs": [],
   "source": [
    "independent = dataset[['age', 'bmi', 'children','sex_male', 'smoker_yes']]"
   ]
  },
  {
   "cell_type": "code",
   "execution_count": 9,
   "id": "24c95445-e09e-45db-8d4e-2258b8a03385",
   "metadata": {},
   "outputs": [],
   "source": [
    "dependent = dataset[['charges']]"
   ]
  },
  {
   "cell_type": "code",
   "execution_count": 10,
   "id": "510778a5-fa2e-41a2-8616-da9544c5be18",
   "metadata": {},
   "outputs": [],
   "source": [
    "from sklearn.model_selection import train_test_split\n",
    "X_train, X_test, Y_train, Y_test = train_test_split(independent, dependent, test_size = 0.30, random_state =0)"
   ]
  },
  {
   "cell_type": "code",
   "execution_count": 13,
   "id": "84b6655d-0271-49a6-9823-677dad810f36",
   "metadata": {},
   "outputs": [],
   "source": [
    "train_data = lgb.Dataset(X_train, label=Y_train)"
   ]
  },
  {
   "cell_type": "code",
   "execution_count": 16,
   "id": "8a7fc945-5f12-4c77-89c4-555ef6a5241b",
   "metadata": {},
   "outputs": [],
   "source": [
    "params = {\n",
    "    'boosting_type': 'gbdt',\n",
    "    'objective': 'regression',\n",
    "    'metric': 'rmse',\n",
    "    'learning_rate': 0.1,\n",
    "    'num_leaves': 31,\n",
    "    'verbose': -1\n",
    "}"
   ]
  },
  {
   "cell_type": "code",
   "execution_count": 19,
   "id": "371db44d-d8af-40b5-91b5-e78f09d064d0",
   "metadata": {},
   "outputs": [],
   "source": [
    "import lightgbm as lgb\n",
    "regressor = lgb.train(params, train_data, num_boost_round=100)"
   ]
  },
  {
   "cell_type": "code",
   "execution_count": 20,
   "id": "1fc1d780-4091-4831-9757-d6e0aa97cbc4",
   "metadata": {},
   "outputs": [],
   "source": [
    "Y_pred = regressor.predict(X_test)"
   ]
  },
  {
   "cell_type": "code",
   "execution_count": 21,
   "id": "0f59e3f5-a0b5-4c2d-bf79-79e7d44c16c5",
   "metadata": {},
   "outputs": [
    {
     "data": {
      "text/plain": [
       "0.86603193419773"
      ]
     },
     "execution_count": 21,
     "metadata": {},
     "output_type": "execute_result"
    }
   ],
   "source": [
    "from sklearn.metrics import r2_score\n",
    "r2score = r2_score(Y_test,Y_pred )\n",
    "r2score"
   ]
  },
  {
   "cell_type": "code",
   "execution_count": 22,
   "id": "55bc3067-0321-4a79-939a-b38cc150be5c",
   "metadata": {},
   "outputs": [],
   "source": [
    "import pickle\n",
    "filename = \"final_lgboosting.sav\""
   ]
  },
  {
   "cell_type": "code",
   "execution_count": 23,
   "id": "e659a916-2bb4-4abc-ad5b-d2276f2b1e15",
   "metadata": {},
   "outputs": [],
   "source": [
    "pickle.dump(regressor,open(filename,'wb'))"
   ]
  },
  {
   "cell_type": "code",
   "execution_count": 24,
   "id": "3cf7deef-27ce-496b-90c9-166f69559b50",
   "metadata": {},
   "outputs": [],
   "source": [
    "loaded_model = pickle.load(open(\"final_lgboosting.sav\",'rb'))"
   ]
  },
  {
   "cell_type": "code",
   "execution_count": 25,
   "id": "1735077d-ecc3-48f1-976b-0ad6440fbe15",
   "metadata": {},
   "outputs": [],
   "source": [
    "result = loaded_model.predict([[35,0,22.6,2,0]])"
   ]
  },
  {
   "cell_type": "code",
   "execution_count": 26,
   "id": "8343dfea-46ca-4f88-ba08-87f141127210",
   "metadata": {},
   "outputs": [
    {
     "data": {
      "text/plain": [
       "array([7498.43984769])"
      ]
     },
     "execution_count": 26,
     "metadata": {},
     "output_type": "execute_result"
    }
   ],
   "source": [
    "result"
   ]
  },
  {
   "cell_type": "code",
   "execution_count": null,
   "id": "670d6828-f42f-49b3-be57-942631afc1ca",
   "metadata": {},
   "outputs": [],
   "source": []
  }
 ],
 "metadata": {
  "kernelspec": {
   "display_name": "Python [conda env:base] *",
   "language": "python",
   "name": "conda-base-py"
  },
  "language_info": {
   "codemirror_mode": {
    "name": "ipython",
    "version": 3
   },
   "file_extension": ".py",
   "mimetype": "text/x-python",
   "name": "python",
   "nbconvert_exporter": "python",
   "pygments_lexer": "ipython3",
   "version": "3.12.7"
  }
 },
 "nbformat": 4,
 "nbformat_minor": 5
}
